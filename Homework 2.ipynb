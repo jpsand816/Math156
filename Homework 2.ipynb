{
 "cells": [
  {
   "cell_type": "markdown",
   "id": "2e1cdb78-8108-4435-882f-51b9d1e6049d",
   "metadata": {},
   "source": [
    "# Question 1"
   ]
  },
  {
   "cell_type": "markdown",
   "id": "77ea89dd-bd65-4324-b138-66e16068ef6b",
   "metadata": {},
   "source": [
    "![blah](HW2_Q1.png)"
   ]
  },
  {
   "cell_type": "markdown",
   "id": "29f07b89-f73a-46e9-9de5-0eee10f7e1e5",
   "metadata": {},
   "source": [
    "# Question 2"
   ]
  },
  {
   "cell_type": "markdown",
   "id": "bb733b11-4602-4dae-a317-f1a01699f8f0",
   "metadata": {},
   "source": [
    "![blah](HW2_Q2.png)"
   ]
  },
  {
   "cell_type": "markdown",
   "id": "3091bb31-db4a-41ff-9d12-0d788ef5ae25",
   "metadata": {},
   "source": [
    "# Question 3"
   ]
  },
  {
   "cell_type": "markdown",
   "id": "9d2ef81a-b484-4888-8354-24326ab7d623",
   "metadata": {},
   "source": [
    "![blah](HW2_Q3.png)"
   ]
  },
  {
   "cell_type": "markdown",
   "id": "9cf8e834-6850-4347-bd0c-5a759b8a2a9f",
   "metadata": {},
   "source": [
    "# Question 4"
   ]
  },
  {
   "cell_type": "markdown",
   "id": "ddcf6cfc-c2af-4d34-903e-9a7c69fda286",
   "metadata": {},
   "source": [
    "## (a)"
   ]
  },
  {
   "cell_type": "code",
   "execution_count": 127,
   "id": "b45123de-936f-407d-ad93-06e1fd847271",
   "metadata": {},
   "outputs": [
    {
     "data": {
      "text/html": [
       "<div>\n",
       "<style scoped>\n",
       "    .dataframe tbody tr th:only-of-type {\n",
       "        vertical-align: middle;\n",
       "    }\n",
       "\n",
       "    .dataframe tbody tr th {\n",
       "        vertical-align: top;\n",
       "    }\n",
       "\n",
       "    .dataframe thead th {\n",
       "        text-align: right;\n",
       "    }\n",
       "</style>\n",
       "<table border=\"1\" class=\"dataframe\">\n",
       "  <thead>\n",
       "    <tr style=\"text-align: right;\">\n",
       "      <th></th>\n",
       "      <th>fixed acidity</th>\n",
       "      <th>volatile acidity</th>\n",
       "      <th>citric acid</th>\n",
       "      <th>residual sugar</th>\n",
       "      <th>chlorides</th>\n",
       "      <th>free sulfur dioxide</th>\n",
       "      <th>total sulfur dioxide</th>\n",
       "      <th>density</th>\n",
       "      <th>pH</th>\n",
       "      <th>sulphates</th>\n",
       "      <th>alcohol</th>\n",
       "      <th>quality</th>\n",
       "    </tr>\n",
       "  </thead>\n",
       "  <tbody>\n",
       "    <tr>\n",
       "      <th>0</th>\n",
       "      <td>7.4</td>\n",
       "      <td>0.70</td>\n",
       "      <td>0.00</td>\n",
       "      <td>1.9</td>\n",
       "      <td>0.076</td>\n",
       "      <td>11.0</td>\n",
       "      <td>34.0</td>\n",
       "      <td>0.9978</td>\n",
       "      <td>3.51</td>\n",
       "      <td>0.56</td>\n",
       "      <td>9.4</td>\n",
       "      <td>5</td>\n",
       "    </tr>\n",
       "    <tr>\n",
       "      <th>1</th>\n",
       "      <td>7.8</td>\n",
       "      <td>0.88</td>\n",
       "      <td>0.00</td>\n",
       "      <td>2.6</td>\n",
       "      <td>0.098</td>\n",
       "      <td>25.0</td>\n",
       "      <td>67.0</td>\n",
       "      <td>0.9968</td>\n",
       "      <td>3.20</td>\n",
       "      <td>0.68</td>\n",
       "      <td>9.8</td>\n",
       "      <td>5</td>\n",
       "    </tr>\n",
       "    <tr>\n",
       "      <th>2</th>\n",
       "      <td>7.8</td>\n",
       "      <td>0.76</td>\n",
       "      <td>0.04</td>\n",
       "      <td>2.3</td>\n",
       "      <td>0.092</td>\n",
       "      <td>15.0</td>\n",
       "      <td>54.0</td>\n",
       "      <td>0.9970</td>\n",
       "      <td>3.26</td>\n",
       "      <td>0.65</td>\n",
       "      <td>9.8</td>\n",
       "      <td>5</td>\n",
       "    </tr>\n",
       "    <tr>\n",
       "      <th>3</th>\n",
       "      <td>11.2</td>\n",
       "      <td>0.28</td>\n",
       "      <td>0.56</td>\n",
       "      <td>1.9</td>\n",
       "      <td>0.075</td>\n",
       "      <td>17.0</td>\n",
       "      <td>60.0</td>\n",
       "      <td>0.9980</td>\n",
       "      <td>3.16</td>\n",
       "      <td>0.58</td>\n",
       "      <td>9.8</td>\n",
       "      <td>6</td>\n",
       "    </tr>\n",
       "    <tr>\n",
       "      <th>4</th>\n",
       "      <td>7.4</td>\n",
       "      <td>0.70</td>\n",
       "      <td>0.00</td>\n",
       "      <td>1.9</td>\n",
       "      <td>0.076</td>\n",
       "      <td>11.0</td>\n",
       "      <td>34.0</td>\n",
       "      <td>0.9978</td>\n",
       "      <td>3.51</td>\n",
       "      <td>0.56</td>\n",
       "      <td>9.4</td>\n",
       "      <td>5</td>\n",
       "    </tr>\n",
       "    <tr>\n",
       "      <th>5</th>\n",
       "      <td>7.4</td>\n",
       "      <td>0.66</td>\n",
       "      <td>0.00</td>\n",
       "      <td>1.8</td>\n",
       "      <td>0.075</td>\n",
       "      <td>13.0</td>\n",
       "      <td>40.0</td>\n",
       "      <td>0.9978</td>\n",
       "      <td>3.51</td>\n",
       "      <td>0.56</td>\n",
       "      <td>9.4</td>\n",
       "      <td>5</td>\n",
       "    </tr>\n",
       "  </tbody>\n",
       "</table>\n",
       "</div>"
      ],
      "text/plain": [
       "   fixed acidity  volatile acidity  citric acid  residual sugar  chlorides  \\\n",
       "0            7.4              0.70         0.00             1.9      0.076   \n",
       "1            7.8              0.88         0.00             2.6      0.098   \n",
       "2            7.8              0.76         0.04             2.3      0.092   \n",
       "3           11.2              0.28         0.56             1.9      0.075   \n",
       "4            7.4              0.70         0.00             1.9      0.076   \n",
       "5            7.4              0.66         0.00             1.8      0.075   \n",
       "\n",
       "   free sulfur dioxide  total sulfur dioxide  density    pH  sulphates  \\\n",
       "0                 11.0                  34.0   0.9978  3.51       0.56   \n",
       "1                 25.0                  67.0   0.9968  3.20       0.68   \n",
       "2                 15.0                  54.0   0.9970  3.26       0.65   \n",
       "3                 17.0                  60.0   0.9980  3.16       0.58   \n",
       "4                 11.0                  34.0   0.9978  3.51       0.56   \n",
       "5                 13.0                  40.0   0.9978  3.51       0.56   \n",
       "\n",
       "   alcohol  quality  \n",
       "0      9.4        5  \n",
       "1      9.8        5  \n",
       "2      9.8        5  \n",
       "3      9.8        6  \n",
       "4      9.4        5  \n",
       "5      9.4        5  "
      ]
     },
     "execution_count": 127,
     "metadata": {},
     "output_type": "execute_result"
    }
   ],
   "source": [
    "import numpy as np\n",
    "from numpy import linalg as LA\n",
    "import pandas as pd\n",
    "import matplotlib.pyplot as plt\n",
    "from sklearn.model_selection import train_test_split\n",
    "\n",
    "wine = pd.read_csv(\"winequality-red.csv\", delimiter = \";\")\n",
    "wine.head(6)"
   ]
  },
  {
   "cell_type": "markdown",
   "id": "20c1b176-d731-4872-8583-e5c58d1c287a",
   "metadata": {},
   "source": [
    "## (b)"
   ]
  },
  {
   "cell_type": "code",
   "execution_count": 128,
   "id": "63cc74b0-34c6-46ce-a3db-c9bede7f3f64",
   "metadata": {},
   "outputs": [],
   "source": [
    "X = np.array(wine.iloc[:, :-1])\n",
    "y = np.array(wine.iloc[:, 11])\n",
    "\n",
    "\n",
    "X_train, X_sub, y_train, y_sub = train_test_split(X, y, test_size = 0.25, random_state = 42)\n",
    "X_test, X_val, y_test, y_val = train_test_split(X_sub, y_sub, test_size = 15/25, random_state = 42)"
   ]
  },
  {
   "cell_type": "markdown",
   "id": "cb2a71fd-3c44-4e20-9283-adfe0c15dd05",
   "metadata": {},
   "source": [
    "## (c)"
   ]
  },
  {
   "cell_type": "markdown",
   "id": "56293345-259e-4b89-ba1d-b17a84a6518a",
   "metadata": {},
   "source": [
    "The closed form solution to the sum of square error function is given by: $$\\beta = (X^TX)^{-1} X^T y.$$"
   ]
  },
  {
   "cell_type": "code",
   "execution_count": 131,
   "id": "0d8c08dd-7f11-44b9-aca0-990a36b20b10",
   "metadata": {},
   "outputs": [
    {
     "name": "stdout",
     "output_type": "stream",
     "text": [
      "[ 3.19457033e-03 -1.02208859e+00 -1.35187029e-01  1.34793780e-04\n",
      " -1.78090495e+00  5.19502700e-03 -3.70824267e-03  4.20796084e+00\n",
      " -4.42831022e-01  7.92848115e-01  3.04980738e-01]\n"
     ]
    }
   ],
   "source": [
    "#SSE algorithm trainer\n",
    "def SSE(X, y):\n",
    "    beta = LA.inv(X.T @ X) @ X.T @ y\n",
    "    return beta\n"
   ]
  },
  {
   "cell_type": "code",
   "execution_count": 132,
   "id": "83e05ed3-93f8-4072-9b7c-9465fe747f6f",
   "metadata": {},
   "outputs": [
    {
     "name": "stdout",
     "output_type": "stream",
     "text": [
      "[ 3.19457033e-03 -1.02208859e+00 -1.35187029e-01  1.34793780e-04\n",
      " -1.78090495e+00  5.19502700e-03 -3.70824267e-03  4.20796084e+00\n",
      " -4.42831022e-01  7.92848115e-01  3.04980738e-01]\n"
     ]
    }
   ],
   "source": [
    "#solve for beta\n",
    "beta = SSE(X_train, y_train)\n",
    "print(beta)"
   ]
  },
  {
   "cell_type": "markdown",
   "id": "4d6f018f-d45d-4531-9fdb-484e34e40c8b",
   "metadata": {},
   "source": [
    "## (d)"
   ]
  },
  {
   "cell_type": "code",
   "execution_count": 133,
   "id": "00c94c19-2b9b-4f21-b49c-359179a463bf",
   "metadata": {},
   "outputs": [],
   "source": [
    "y_train_pred = X_train @ SSE(X_train, y_train)"
   ]
  },
  {
   "cell_type": "code",
   "execution_count": 135,
   "id": "e5d7a395-9fb7-491b-a114-b3b4328d94be",
   "metadata": {},
   "outputs": [
    {
     "data": {
      "text/plain": [
       "Text(0.5, 0, 'Actual Wine Quality (train)')"
      ]
     },
     "execution_count": 135,
     "metadata": {},
     "output_type": "execute_result"
    },
    {
     "data": {
      "image/png": "[encoded data removed]",
      "text/plain": [
       "<Figure size 640x480 with 1 Axes>"
      ]
     },
     "metadata": {},
     "output_type": "display_data"
    }
   ],
   "source": [
    "plt.scatter(y_train, y_train_pred)\n",
    "plt.ylabel(\"Predicted Wine Quality (train)\")\n",
    "plt.xlabel(\"Actual Wine Quality (train)\")"
   ]
  },
  {
   "cell_type": "markdown",
   "id": "973bd7c4-51f6-40b6-a076-fdf4831f40db",
   "metadata": {},
   "source": [
    "The plot compares the real wine quality to the predicted wine quality. Since the graph shows the actual wine quality matching similarly to the predicted, it shows that the model trained can somewhat predict the actual wine quality well. The values of the predicted seem to follow closely when the quality is 6 but deviates slightly in more extreme points like 3 and 8."
   ]
  },
  {
   "cell_type": "markdown",
   "id": "051627a1-6e33-4b54-8d93-f01bbd134c1d",
   "metadata": {},
   "source": [
    "## (e)"
   ]
  },
  {
   "cell_type": "markdown",
   "id": "cef2b58d-5c56-4183-bb74-f75453da9d8c",
   "metadata": {},
   "source": [
    "- The root MSE calculator is first built"
   ]
  },
  {
   "cell_type": "code",
   "execution_count": 136,
   "id": "05d7134c-d6e2-4fee-8923-6c3ad2995ac9",
   "metadata": {},
   "outputs": [
    {
     "data": {
      "text/plain": [
       "0.6539565424645601"
      ]
     },
     "execution_count": 136,
     "metadata": {},
     "output_type": "execute_result"
    }
   ],
   "source": [
    "#MSE function\n",
    "def mse(pred, target):\n",
    "    val = sum( np.square( (pred @ beta) - target ) )\n",
    "    return val / 2\n",
    "\n",
    "#root mean square function\n",
    "def rootmse(pred, target):\n",
    "    return np.sqrt(2 * mse(pred, target) / len(pred))\n",
    "    \n",
    "\n"
   ]
  },
  {
   "cell_type": "code",
   "execution_count": 165,
   "id": "811d17da-06f4-4d67-8926-1bc2e2e03306",
   "metadata": {},
   "outputs": [
    {
     "name": "stdout",
     "output_type": "stream",
     "text": [
      "The root mean square for the training set is 0.6539565424645601\n"
     ]
    }
   ],
   "source": [
    "#training\n",
    "mse_training = rootmse(X_train, y_train)\n",
    "print(f\"The root mean square for the training set is {mse_training}\")\n"
   ]
  },
  {
   "cell_type": "code",
   "execution_count": 164,
   "id": "8fcdb091-083f-4051-ab77-13fd26080fdc",
   "metadata": {},
   "outputs": [
    {
     "name": "stdout",
     "output_type": "stream",
     "text": [
      "The root mean square for the testing set is 0.6148418450930844\n"
     ]
    }
   ],
   "source": [
    "#testing\n",
    "mse_test = rootmse(X_test, y_test)\n",
    "print(f\"The root mean square for the testing set is {mse_test}\")"
   ]
  },
  {
   "cell_type": "markdown",
   "id": "e0461d43-9d58-47e9-8055-c1216054c257",
   "metadata": {},
   "source": [
    "## (f)"
   ]
  },
  {
   "cell_type": "code",
   "execution_count": 120,
   "id": "b23d748c-4400-4b4f-a1c5-4d66f3d29698",
   "metadata": {},
   "outputs": [],
   "source": [
    "#LMS function algorithm\n",
    "def LMS(X, y, iter = 5000, step = 0.0001):\n",
    "    #initialize w0\n",
    "    w = np.random.uniform(-10, 10, X.shape[1])\n",
    "    \n",
    "    for i in range(iter): \n",
    "        n = np.random.randint(0, X.shape[0]-1) #set random vector\n",
    "        error = y[n] - (w.T @ X_train[n]) #error term\n",
    "        w = w + (step * error * X_train[n]) #update weights\n",
    "    return w\n",
    "\n",
    "\n"
   ]
  },
  {
   "cell_type": "code",
   "execution_count": 158,
   "id": "2a30b623-1475-4ab6-a21e-0602eca7c35d",
   "metadata": {},
   "outputs": [
    {
     "data": {
      "text/plain": [
       "array([ 2.29865209e-01, -6.46486905e-01, -6.05719229e-01, -1.10729496e-02,\n",
       "        6.52855202e+00, -3.40328939e-03,  2.13325857e-03, -8.19187225e+00,\n",
       "        2.06600758e+00,  1.50472571e-01,  4.49630069e-01])"
      ]
     },
     "execution_count": 158,
     "metadata": {},
     "output_type": "execute_result"
    }
   ],
   "source": [
    "iteration = 1500000\n",
    "stepsize = 0.00005\n",
    "theta = LMS(X_train, y_train, iteration, stepsize)\n",
    "theta"
   ]
  },
  {
   "cell_type": "markdown",
   "id": "7de1558a-f3d8-4492-a91f-7bcaf2b5e699",
   "metadata": {},
   "source": [
    "The results of theta can be plotted once again to check rough accuracy of the predictions compared to the actual values of the wine quality."
   ]
  },
  {
   "cell_type": "code",
   "execution_count": 159,
   "id": "0fd7b6df-92d5-4d9e-96f6-9068ecbb3928",
   "metadata": {},
   "outputs": [
    {
     "data": {
      "text/plain": [
       "Text(0.5, 0, 'Actual Wine Quality (train)')"
      ]
     },
     "execution_count": 159,
     "metadata": {},
     "output_type": "execute_result"
    },
    {
     "data": {
      "image/png": "[encoded data removed]",
      "text/plain": [
       "<Figure size 640x480 with 1 Axes>"
      ]
     },
     "metadata": {},
     "output_type": "display_data"
    }
   ],
   "source": [
    "y_train_pred_theta = X_train @ theta\n",
    "plt.scatter(y_train, y_train_pred_theta)\n",
    "plt.ylabel(\"Predicted Wine Quality (train)\")\n",
    "plt.xlabel(\"Actual Wine Quality (train)\")"
   ]
  },
  {
   "cell_type": "markdown",
   "id": "382c6f7f-1b61-4b00-8b07-d8b16bbab726",
   "metadata": {},
   "source": [
    "## (g)"
   ]
  },
  {
   "cell_type": "markdown",
   "id": "a1b8a89a-b167-45d4-b41c-ce681021af69",
   "metadata": {},
   "source": [
    "- The root mse calculator for the LMS is built first"
   ]
  },
  {
   "cell_type": "code",
   "execution_count": 160,
   "id": "b808066c-c419-4ca3-8e3f-692d071b4271",
   "metadata": {},
   "outputs": [],
   "source": [
    "#train\n",
    "#MSE function\n",
    "def mse_LMS(pred, target):\n",
    "    val = sum( np.square( (pred @ theta) - target ) )\n",
    "    return val / 2\n",
    "\n",
    "#root mean square function\n",
    "def rootmse_LMS(pred, target):\n",
    "    return np.sqrt(2 * mse_LMS(pred, target) / len(pred))"
   ]
  },
  {
   "cell_type": "code",
   "execution_count": 163,
   "id": "997428b4-eb64-4dba-a724-8137ccf6c86a",
   "metadata": {},
   "outputs": [
    {
     "name": "stdout",
     "output_type": "stream",
     "text": [
      "The root mean square for the training set is 0.8057296854787833\n"
     ]
    }
   ],
   "source": [
    "#training\n",
    "mse_LMS_training = rootmse_LMS(X_train, y_train)\n",
    "print(f\"The root mean square for the training set is {mse_LMS_training}\")"
   ]
  },
  {
   "cell_type": "code",
   "execution_count": 166,
   "id": "c3ddea82-f049-450f-b554-3229512397f2",
   "metadata": {},
   "outputs": [
    {
     "name": "stdout",
     "output_type": "stream",
     "text": [
      "The root mean square for the testing set is 0.8103672352456553\n"
     ]
    }
   ],
   "source": [
    "#testing\n",
    "mse_LMS_test = rootmse_LMS(X_test, y_test)\n",
    "print(f\"The root mean square for the testing set is {mse_LMS_test}\")"
   ]
  }
 ],
 "metadata": {
  "kernelspec": {
   "display_name": "Python 3 (ipykernel)",
   "language": "python",
   "name": "python3"
  },
  "language_info": {
   "codemirror_mode": {
    "name": "ipython",
    "version": 3
   },
   "file_extension": ".py",
   "mimetype": "text/x-python",
   "name": "python",
   "nbconvert_exporter": "python",
   "pygments_lexer": "ipython3",
   "version": "3.11.7"
  }
 },
 "nbformat": 4,
 "nbformat_minor": 5
}
