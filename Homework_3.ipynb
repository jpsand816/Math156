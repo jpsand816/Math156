{
 "cells": [
  {
   "cell_type": "markdown",
   "id": "9cc9824e-8eef-427d-bf32-3fb3a846dbd1",
   "metadata": {},
   "source": [
    "# Question 3"
   ]
  },
  {
   "cell_type": "markdown",
   "id": "c5049e0c-a276-41e7-9f70-0fc11514f026",
   "metadata": {},
   "source": [
    "Import necessary packages"
   ]
  },
  {
   "cell_type": "code",
   "execution_count": 1,
   "id": "a5bcca3c-1871-4093-a9f4-ab12b01ecf21",
   "metadata": {},
   "outputs": [],
   "source": [
    "import numpy as np\n",
    "from numpy import linalg as LA\n",
    "import pandas as pd\n",
    "import matplotlib.pyplot as plt\n",
    "from sklearn.model_selection import train_test_split"
   ]
  },
  {
   "cell_type": "markdown",
   "id": "6d26336f-5346-4506-b4a7-6c5fffac700e",
   "metadata": {},
   "source": [
    "Define logistic regression equation as $$\\sigma(z) = \\frac{1}{1 + exp(-z)}$$"
   ]
  },
  {
   "cell_type": "code",
   "execution_count": 2,
   "id": "0b9cf1e6-a054-42e6-b033-eee537199dc5",
   "metadata": {},
   "outputs": [],
   "source": [
    "def logreg(z):\n",
    "    #denom = 1 + np.exp(-z)\n",
    "    return 1 / (1 + np.exp(-z))\n",
    "\n"
   ]
  },
  {
   "cell_type": "markdown",
   "id": "6941a981-e9f3-46f5-a948-0aa70d39229c",
   "metadata": {},
   "source": [
    "Define the error term:"
   ]
  },
  {
   "cell_type": "code",
   "execution_count": 3,
   "id": "c67cd47e-d031-4b16-89f2-970827a7c478",
   "metadata": {},
   "outputs": [],
   "source": [
    "def error(X, y, w, n):\n",
    "    left = y[n] * np.log(logreg(w.T @ X[n])) #np.clip\n",
    "    right = (1 - y[n]) * np.log(1 - logreg(w.T @ X[n]))\n",
    "    return -sum(left + right)"
   ]
  },
  {
   "cell_type": "markdown",
   "id": "2de1d32e-88d5-4e41-ae0a-46b2c2dbe4c4",
   "metadata": {},
   "source": [
    "Gradient of the error function:"
   ]
  },
  {
   "cell_type": "code",
   "execution_count": 4,
   "id": "7a1ad3dd-8f1d-454b-a267-9696ed90a810",
   "metadata": {},
   "outputs": [],
   "source": [
    "def gradient_error(X, y, w, n):\n",
    "    return (logreg(w.T @ X[n]) - y[n]) * X[n]"
   ]
  },
  {
   "cell_type": "markdown",
   "id": "623859c1-2c8e-49a5-a3c3-467258081493",
   "metadata": {},
   "source": [
    "Mini batch SGD function"
   ]
  },
  {
   "cell_type": "code",
   "execution_count": 5,
   "id": "f21eccbe-6b21-423f-9dde-c085525bbd2f",
   "metadata": {},
   "outputs": [],
   "source": [
    "def minibatch(X, y, iter = 1000, step = 0.0001, batchsize = 32):\n",
    "    #initialize w0\n",
    "    w = np.random.randn(X.shape[1])\n",
    "\n",
    "    for i in range(iter):\n",
    "        #set the error term from the minibatch\n",
    "        batch = np.random.randint(0, X.shape[0] - 1, batchsize)\n",
    "        target = 0\n",
    "        for j in batch:\n",
    "            target += gradient_error(X, y, w, j) #update error on summation of batch\n",
    "        \n",
    "        w = w - (step * target)\n",
    "\n",
    "    return w"
   ]
  },
  {
   "cell_type": "markdown",
   "id": "7fd0d5c2-d728-4526-8b4c-664867d9fd34",
   "metadata": {},
   "source": [
    "# Question 4"
   ]
  },
  {
   "cell_type": "markdown",
   "id": "33e23869-c98b-4da7-8f55-f49b5263f995",
   "metadata": {},
   "source": [
    "## (a)"
   ]
  },
  {
   "cell_type": "code",
   "execution_count": 18,
   "id": "9af7add8-a1fc-4a12-83d0-b4c59baca597",
   "metadata": {},
   "outputs": [],
   "source": [
    "from ucimlrepo import fetch_ucirepo\n",
    "data = fetch_ucirepo(id=17)\n",
    "X = data.data.features\n",
    "y = data.data.targets\n"
   ]
  },
  {
   "cell_type": "code",
   "execution_count": 19,
   "id": "f455f101-ee01-4c72-8db6-f2c222a932ab",
   "metadata": {},
   "outputs": [],
   "source": [
    "#convert into array\n",
    "X = np.array(X)\n",
    "y = np.array(y)\n",
    "\n",
    "#convert y into binary variables\n",
    "y = (y == 'M') #let malignant = 1, benign = 0\n",
    "y = y.astype(int)\n"
   ]
  },
  {
   "cell_type": "markdown",
   "id": "657d6968-b9ea-4887-88e7-c82ba5d3ffc5",
   "metadata": {},
   "source": [
    "## (b)"
   ]
  },
  {
   "cell_type": "code",
   "execution_count": 20,
   "id": "f6535f60-b13e-4e9b-9409-839e9b99db3d",
   "metadata": {},
   "outputs": [],
   "source": [
    "X_train, X_sub, y_train, y_sub = train_test_split(X, y, test_size = 0.25, random_state = 42)\n",
    "X_test, X_val, y_test, y_val = train_test_split(X_sub, y_sub, test_size = 15/25, random_state = 42)"
   ]
  },
  {
   "cell_type": "markdown",
   "id": "4a76418b-a1be-43b7-9fd7-3148402ce2d8",
   "metadata": {},
   "source": [
    "## (c)"
   ]
  },
  {
   "cell_type": "markdown",
   "id": "218862ed-e2f4-47fd-abab-e2d371cebc4e",
   "metadata": {},
   "source": [
    "Training Set"
   ]
  },
  {
   "cell_type": "code",
   "execution_count": 22,
   "id": "47e07588-67fa-4b44-a17a-6cff09128337",
   "metadata": {},
   "outputs": [
    {
     "name": "stdout",
     "output_type": "stream",
     "text": [
      "There are [158] malignant cases in the training set\n",
      "There are [268] benign cases in the training set\n"
     ]
    }
   ],
   "source": [
    "print(f\"There are {sum(y_train == 1)} malignant cases in the training set\")\n",
    "print(f\"There are {sum(y_train == 0)} benign cases in the training set\")"
   ]
  },
  {
   "cell_type": "markdown",
   "id": "f72124c7-2c8e-4c62-88b7-f9b5e9772878",
   "metadata": {},
   "source": [
    "Validation Set"
   ]
  },
  {
   "cell_type": "code",
   "execution_count": 23,
   "id": "cf1c5145-1907-4f5d-8eb5-46ff672e5e92",
   "metadata": {},
   "outputs": [
    {
     "name": "stdout",
     "output_type": "stream",
     "text": [
      "There are [33] malignant cases in the validation set\n",
      "There are [53] benign cases in the validation set\n"
     ]
    }
   ],
   "source": [
    "print(f\"There are {sum(y_val == 1)} malignant cases in the validation set\")\n",
    "print(f\"There are {sum(y_val == 0)} benign cases in the validation set\")"
   ]
  },
  {
   "cell_type": "markdown",
   "id": "f9b70361-a480-4a74-a59e-7abc697d2675",
   "metadata": {},
   "source": [
    "## (d)"
   ]
  },
  {
   "cell_type": "code",
   "execution_count": 24,
   "id": "21c14de9-ed54-4567-b298-c5a4b557a6d9",
   "metadata": {},
   "outputs": [
    {
     "data": {
      "text/plain": [
       "array([ 0.31800829,  0.47701412, -2.27124288, -0.03096425,  0.92222673,\n",
       "       -0.62992366, -0.63779954, -1.39656245,  0.52862093, -0.27208146,\n",
       "        0.07234583, -0.89072588, -0.57104609,  0.45976401, -1.04340165,\n",
       "       -2.61013561,  0.112101  ,  0.09160379,  0.42902001,  0.57760137,\n",
       "       -0.4206864 ,  1.2245875 , -0.28509947,  0.27040151, -0.88835974,\n",
       "       -1.11745201,  1.17589744, -0.43449628,  0.27052789,  0.34949469])"
      ]
     },
     "execution_count": 24,
     "metadata": {},
     "output_type": "execute_result"
    }
   ],
   "source": [
    "w = minibatch(X_train, y_train, iter = 10000, step = 0.000005, batchsize = 64)\n",
    "w"
   ]
  },
  {
   "cell_type": "code",
   "execution_count": 25,
   "id": "981ca3f7-9a19-43e4-9d49-521bc8311f5a",
   "metadata": {},
   "outputs": [],
   "source": [
    "#prediction function\n",
    "def pred(X):\n",
    "    output = X @ w\n",
    "    output = (output >= 0.5).astype(int).reshape(57, 1)\n",
    "    return output"
   ]
  },
  {
   "cell_type": "markdown",
   "id": "89eaf83d-1cff-46d2-99ac-6dd10c590c84",
   "metadata": {},
   "source": [
    "## (e)"
   ]
  },
  {
   "cell_type": "code",
   "execution_count": 26,
   "id": "dc8c0b2e-b2bb-4b91-9625-6b2b906a8429",
   "metadata": {},
   "outputs": [],
   "source": [
    "#setting test model\n",
    "X_test_pred = pred(X_test)"
   ]
  },
  {
   "cell_type": "code",
   "execution_count": 27,
   "id": "c9cbc1f0-57a4-460a-968f-f60152b09e2d",
   "metadata": {},
   "outputs": [],
   "source": [
    "#accuracy\n",
    "def accuracy(pred, res):\n",
    "    return (sum(pred == res)) / (len(pred))\n",
    "    \n",
    "    \n",
    "    "
   ]
  },
  {
   "cell_type": "code",
   "execution_count": 28,
   "id": "11702b8d-25db-4b4f-b57a-341ac2ebb455",
   "metadata": {},
   "outputs": [],
   "source": [
    "#precision\n",
    "def precision(pred, res):\n",
    "    tp = sum(res[pred == 1]) #subset results to match positive prediction, grab all positive values\n",
    "    return tp / sum(pred)"
   ]
  },
  {
   "cell_type": "code",
   "execution_count": 29,
   "id": "c7c42d9e-bc46-4a95-842f-3675b5e86278",
   "metadata": {},
   "outputs": [],
   "source": [
    "#recall\n",
    "def recall(pred, res):\n",
    "    tp = sum(res[pred == 1])\n",
    "    return tp / sum(res)"
   ]
  },
  {
   "cell_type": "code",
   "execution_count": 30,
   "id": "7451f238-b063-4879-86f0-6c43fb9b3589",
   "metadata": {},
   "outputs": [],
   "source": [
    "# F1 score\n",
    "def f1(pred, res):\n",
    "    numer = precision(pred, res) * recall(pred,res)\n",
    "    denom = precision(pred, res) + recall(pred,res)\n",
    "    return 2 * (numer / denom)"
   ]
  },
  {
   "cell_type": "code",
   "execution_count": 31,
   "id": "9994c7d7-63a7-4d81-ae84-d3538d8b0180",
   "metadata": {},
   "outputs": [
    {
     "name": "stdout",
     "output_type": "stream",
     "text": [
      "Accuracy = [0.94736842]\n"
     ]
    }
   ],
   "source": [
    "print(f\"Accuracy = {accuracy(X_test_pred, y_test)}\")"
   ]
  },
  {
   "cell_type": "code",
   "execution_count": 32,
   "id": "025df9a1-6033-4944-bbf3-34825878fb8d",
   "metadata": {},
   "outputs": [
    {
     "name": "stdout",
     "output_type": "stream",
     "text": [
      "Precision = [0.90909091]\n"
     ]
    }
   ],
   "source": [
    "print(f\"Precision = {precision(X_test_pred, y_test)}\")"
   ]
  },
  {
   "cell_type": "code",
   "execution_count": 33,
   "id": "27b5f59f-17d8-493c-aa0b-8ad468f2f143",
   "metadata": {},
   "outputs": [
    {
     "name": "stdout",
     "output_type": "stream",
     "text": [
      "Recall = [0.95238095]\n"
     ]
    }
   ],
   "source": [
    "print(f\"Recall = {recall(X_test_pred, y_test)}\")"
   ]
  },
  {
   "cell_type": "code",
   "execution_count": 34,
   "id": "51b6f316-3661-48d5-8e7f-78ff6a655531",
   "metadata": {},
   "outputs": [
    {
     "name": "stdout",
     "output_type": "stream",
     "text": [
      "f1 score = [0.93023256]\n"
     ]
    }
   ],
   "source": [
    "print(f\"f1 score = {f1(X_test_pred, y_test)}\")"
   ]
  },
  {
   "cell_type": "markdown",
   "id": "bf96cfc9-0432-4efd-8961-39e497b3cae1",
   "metadata": {},
   "source": [
    "## (e)"
   ]
  },
  {
   "cell_type": "markdown",
   "id": "b6ccf63b-835d-46e2-a86c-8356071dafee",
   "metadata": {},
   "source": [
    "- **Accuracy:** About 94.74% of the predicted data is accurate\n",
    "- **Precision:** About 90.9% of the malignant predicted values are actually malignant\n",
    "- **Recall:** About 95.24% of the true malignant values are predicted accurately\n",
    "- **F1:** The harmonic mean of the precision and recall is about 0.9302"
   ]
  },
  {
   "cell_type": "code",
   "execution_count": null,
   "id": "6b6ecb31-37ad-4db7-bab7-b37c8bb0ab0d",
   "metadata": {},
   "outputs": [],
   "source": []
  }
 ],
 "metadata": {
  "kernelspec": {
   "display_name": "Python 3 (ipykernel)",
   "language": "python",
   "name": "python3"
  },
  "language_info": {
   "codemirror_mode": {
    "name": "ipython",
    "version": 3
   },
   "file_extension": ".py",
   "mimetype": "text/x-python",
   "name": "python",
   "nbconvert_exporter": "python",
   "pygments_lexer": "ipython3",
   "version": "3.11.7"
  }
 },
 "nbformat": 4,
 "nbformat_minor": 5
}
